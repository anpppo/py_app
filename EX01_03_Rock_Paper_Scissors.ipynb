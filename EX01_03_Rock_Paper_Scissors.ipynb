{
  "nbformat": 4,
  "nbformat_minor": 0,
  "metadata": {
    "colab": {
      "provenance": [],
      "authorship_tag": "ABX9TyPfSgx6VmJRne76rNgQOB/q",
      "include_colab_link": true
    },
    "kernelspec": {
      "name": "python3",
      "display_name": "Python 3"
    },
    "language_info": {
      "name": "python"
    }
  },
  "cells": [
    {
      "cell_type": "markdown",
      "metadata": {
        "id": "view-in-github",
        "colab_type": "text"
      },
      "source": [
        "<a href=\"https://colab.research.google.com/github/anpppo/py_app/blob/main/EX01_03_Rock_Paper_Scissors.ipynb\" target=\"_parent\"><img src=\"https://colab.research.google.com/assets/colab-badge.svg\" alt=\"Open In Colab\"/></a>"
      ]
    },
    {
      "cell_type": "code",
      "execution_count": null,
      "metadata": {
        "id": "BT-d3UOqBy7J"
      },
      "outputs": [],
      "source": [
        "import random\n",
        "print('0:石頭，2:剪刀，5:布\\n')\n",
        "player_choice = int(input('選擇:'))\n",
        "if player_choice not in [0,2,5]:\n",
        "    print('輸入錯誤')\n",
        "else:\n",
        "  computer_choice = random.choice([0,2,5])\n",
        "  if computer_choice == 0:\n",
        "      print('電腦:石頭')\n",
        "  if computer_choice == 2:\n",
        "      print('電腦:剪刀')\n",
        "  if computer_choice == 5:\n",
        "      print('電腦:布')\n",
        "\n",
        "  diff = player_choice - computer_choice\n",
        "  if diff in [-2,-3,5]:\n",
        "      print('你贏了')\n",
        "  if diff in [2,3,-5]:\n",
        "      print('你輸了')\n",
        "  if diff == 0:\n",
        "      print('平手')\n",
        "\n"
      ]
    }
  ]
}