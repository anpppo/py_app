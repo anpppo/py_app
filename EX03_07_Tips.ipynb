{
  "nbformat": 4,
  "nbformat_minor": 0,
  "metadata": {
    "colab": {
      "provenance": [],
      "authorship_tag": "ABX9TyOiRVdnG/sJpEMHDySMxXb0",
      "include_colab_link": true
    },
    "kernelspec": {
      "name": "python3",
      "display_name": "Python 3"
    },
    "language_info": {
      "name": "python"
    }
  },
  "cells": [
    {
      "cell_type": "markdown",
      "metadata": {
        "id": "view-in-github",
        "colab_type": "text"
      },
      "source": [
        "<a href=\"https://colab.research.google.com/github/anpppo/py_app/blob/main/EX03_07_Tips.ipynb\" target=\"_parent\"><img src=\"https://colab.research.google.com/assets/colab-badge.svg\" alt=\"Open In Colab\"/></a>"
      ]
    },
    {
      "cell_type": "code",
      "execution_count": null,
      "metadata": {
        "id": "rMh_kNQbTO2Q"
      },
      "outputs": [],
      "source": [
        "import seaborn as sns\n",
        "\n",
        "tips = sns.load_dataset('tips')\n",
        "tips"
      ]
    },
    {
      "cell_type": "code",
      "source": [
        "tips.dtypes"
      ],
      "metadata": {
        "id": "lrW5zkrvey0Z"
      },
      "execution_count": null,
      "outputs": []
    },
    {
      "cell_type": "code",
      "source": [
        "tips.info()"
      ],
      "metadata": {
        "id": "MzjEoS-YfFcg"
      },
      "execution_count": null,
      "outputs": []
    },
    {
      "cell_type": "code",
      "source": [
        "corr = tips[['total_bill','tip','size']].corr()\n",
        "corr"
      ],
      "metadata": {
        "id": "3f90crjvfcML"
      },
      "execution_count": null,
      "outputs": []
    },
    {
      "cell_type": "code",
      "source": [
        "sns.heatmap(corr,annot=True)"
      ],
      "metadata": {
        "id": "XozOgTgxf09e"
      },
      "execution_count": null,
      "outputs": []
    },
    {
      "cell_type": "code",
      "source": [
        "sns.scatterplot( data=tips, x='total_bill', y='tip')"
      ],
      "metadata": {
        "id": "Qwa8_07Jf-H-"
      },
      "execution_count": null,
      "outputs": []
    },
    {
      "cell_type": "code",
      "source": [
        "sns.scatterplot( data=tips, x='total_bill', y='tip',hue='smoker')"
      ],
      "metadata": {
        "id": "Awe8t5JzgRrW"
      },
      "execution_count": null,
      "outputs": []
    },
    {
      "cell_type": "code",
      "source": [
        "sns.scatterplot( data=tips, x='total_bill', y='tip',hue='smoker',style='time')"
      ],
      "metadata": {
        "id": "cn9-GOaVgh_f"
      },
      "execution_count": null,
      "outputs": []
    },
    {
      "cell_type": "code",
      "source": [
        "sns.catplot( data=tips, x='day', y='tip')"
      ],
      "metadata": {
        "id": "C6sIvtohguwA"
      },
      "execution_count": null,
      "outputs": []
    },
    {
      "cell_type": "code",
      "source": [
        "sns.catplot( data=tips, x='day', y='total_bill',hue='sex',kind='swarm')"
      ],
      "metadata": {
        "id": "4G5St_iwg4jp"
      },
      "execution_count": null,
      "outputs": []
    },
    {
      "cell_type": "code",
      "source": [
        "sns.catplot( data=tips, x='sex', y='tip', hue='sex', kind='box')"
      ],
      "metadata": {
        "id": "KxtL94GGhcCh"
      },
      "execution_count": null,
      "outputs": []
    }
  ]
}