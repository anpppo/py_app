{
  "nbformat": 4,
  "nbformat_minor": 0,
  "metadata": {
    "colab": {
      "provenance": [],
      "authorship_tag": "ABX9TyMf0FMOcEJQExKfmzEgLiD4",
      "include_colab_link": true
    },
    "kernelspec": {
      "name": "python3",
      "display_name": "Python 3"
    },
    "language_info": {
      "name": "python"
    }
  },
  "cells": [
    {
      "cell_type": "markdown",
      "metadata": {
        "id": "view-in-github",
        "colab_type": "text"
      },
      "source": [
        "<a href=\"https://colab.research.google.com/github/anpppo/py_app/blob/main/EX03_03_%E7%A9%BA%E6%B0%A3%E5%93%81%E8%B3%AA%E6%8C%87%E6%A8%99(AQI).ipynb\" target=\"_parent\"><img src=\"https://colab.research.google.com/assets/colab-badge.svg\" alt=\"Open In Colab\"/></a>"
      ]
    },
    {
      "cell_type": "code",
      "execution_count": null,
      "metadata": {
        "id": "Y2hhDGk7lzco"
      },
      "outputs": [],
      "source": [
        "import pandas as pd\n",
        "url = 'https://data.moenv.gov.tw/api/v2/aqx_p_432?api_key=58d6040c-dca7-407f-a244-d0bfdfa8144a&limit=1000&sort=ImportDate%20desc&format=CSV'\n",
        "df = pd.read_csv(url)\n",
        "df.head()"
      ]
    },
    {
      "cell_type": "code",
      "source": [
        "df = df[['sitename','county','pollutant','status','aqi']]\n",
        "df"
      ],
      "metadata": {
        "id": "-4Qdlvg0mqT7"
      },
      "execution_count": null,
      "outputs": []
    },
    {
      "cell_type": "code",
      "source": [
        "condition = df['aqi']>100\n",
        "df[condition]"
      ],
      "metadata": {
        "id": "zUwOSTgMm6Kt"
      },
      "execution_count": null,
      "outputs": []
    },
    {
      "cell_type": "code",
      "source": [
        "df['pollutant'].unique()"
      ],
      "metadata": {
        "id": "pqrTjE0Wn3_i"
      },
      "execution_count": null,
      "outputs": []
    },
    {
      "cell_type": "code",
      "source": [
        "con_coun = df['county'] =='高雄市'\n",
        "df[con_coun]\n"
      ],
      "metadata": {
        "id": "HJCTCyQbn-jg"
      },
      "execution_count": null,
      "outputs": []
    },
    {
      "cell_type": "code",
      "source": [
        "df.groupby('county')['aqi'].mean().sort_values(ascending=False)"
      ],
      "metadata": {
        "id": "kg13AkIroQyk"
      },
      "execution_count": null,
      "outputs": []
    }
  ]
}