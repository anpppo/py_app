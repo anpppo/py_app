{
  "nbformat": 4,
  "nbformat_minor": 0,
  "metadata": {
    "colab": {
      "provenance": [],
      "authorship_tag": "ABX9TyOpq/Ov8Jfgz4k9YSu90jap",
      "include_colab_link": true
    },
    "kernelspec": {
      "name": "python3",
      "display_name": "Python 3"
    },
    "language_info": {
      "name": "python"
    }
  },
  "cells": [
    {
      "cell_type": "markdown",
      "metadata": {
        "id": "view-in-github",
        "colab_type": "text"
      },
      "source": [
        "<a href=\"https://colab.research.google.com/github/anpppo/py_app/blob/main/EX03_01_%E5%85%AC%E5%8F%B8%E8%96%AA%E8%B3%87%E6%A6%82%E6%B3%81%E2%85%A0.ipynb\" target=\"_parent\"><img src=\"https://colab.research.google.com/assets/colab-badge.svg\" alt=\"Open In Colab\"/></a>"
      ]
    },
    {
      "cell_type": "code",
      "execution_count": null,
      "metadata": {
        "id": "GlpWsutfJLZ6"
      },
      "outputs": [],
      "source": [
        "import pandas as pd\n",
        "\n",
        "data = {'ID': [101, 102, 103, 104, 105, 106, 107, 108, 109, 110],\n",
        "    'Name': ['Alice', 'Bob', 'Charlie', 'David', 'Eve', 'Frank', 'Grace', 'Helen', 'Ivy', 'Jack'],\n",
        "    'Age': [25, 30, 35, 40, 22, 29, 38, 27, 33, 31],\n",
        "    'City': ['New York', 'Los Angeles', 'Chicago', 'Houston', 'Phoenix', 'Philadelphia', 'San Antonio', 'San Diego', 'Dallas', 'San Jose'],\n",
        "    'Salary': [50000, 60000, 75000, 80000, 45000, 62000, 72000, 58000, 69000, 71000],\n",
        "    'Department': ['IT', 'HR', 'Finance', 'Marketing', 'IT', 'HR', 'Finance', 'Marketing', 'IT', 'Finance']}\n",
        "df = pd.DataFrame(data)\n",
        "\n",
        "df"
      ]
    },
    {
      "cell_type": "code",
      "source": [
        "df[[\"Name\",\"Salary\"]]"
      ],
      "metadata": {
        "id": "qT8KFG-MKYc3"
      },
      "execution_count": null,
      "outputs": []
    },
    {
      "cell_type": "code",
      "source": [
        "df.loc[5:8]"
      ],
      "metadata": {
        "id": "4YwDAMFvKmrI"
      },
      "execution_count": null,
      "outputs": []
    },
    {
      "cell_type": "code",
      "source": [
        "avg_sal =df[\"Salary\"].mean()\n",
        "avg_age =df[\"Age\"].mean()\n",
        "\n",
        "df[(df[\"Salary\"]>avg_sal) & (df[\"Age\"]>avg_age)]\n"
      ],
      "metadata": {
        "id": "UvVwJTdQKwt8"
      },
      "execution_count": null,
      "outputs": []
    },
    {
      "cell_type": "code",
      "source": [
        "print(df[\"Salary\"].mean(),df[\"Age\"].max(),df[\"Age\"].min(),df[\"Age\"].median())"
      ],
      "metadata": {
        "colab": {
          "base_uri": "https://localhost:8080/"
        },
        "id": "q1hK5sP4XGdL",
        "outputId": "4cc28c62-ffce-4eb0-aabf-17f4b7efd717"
      },
      "execution_count": 5,
      "outputs": [
        {
          "output_type": "stream",
          "name": "stdout",
          "text": [
            "64200.0 40 22 30.5\n"
          ]
        }
      ]
    },
    {
      "cell_type": "code",
      "source": [
        "df[\"Department\"].unique()"
      ],
      "metadata": {
        "colab": {
          "base_uri": "https://localhost:8080/"
        },
        "id": "6xAbzm5LXiWd",
        "outputId": "7f40b15f-fb3c-45c6-b384-1b9edb1e6519"
      },
      "execution_count": 7,
      "outputs": [
        {
          "output_type": "execute_result",
          "data": {
            "text/plain": [
              "array(['IT', 'HR', 'Finance', 'Marketing'], dtype=object)"
            ]
          },
          "metadata": {},
          "execution_count": 7
        }
      ]
    },
    {
      "cell_type": "code",
      "source": [
        "print( df.groupby('Department')[\"Salary\"].mean().idxmax, df.groupby('Department')[\"Salary\"].mean().max)\n",
        "\n",
        "print(df.groupby(\"Department\")[\"Age\"].mean().idxmin,df.groupby(\"Department\")[\"Age\"].mean().min)"
      ],
      "metadata": {
        "colab": {
          "base_uri": "https://localhost:8080/"
        },
        "id": "aBZFPlFIXyIv",
        "outputId": "50280434-e46b-4c37-fd48-a75aee9878af"
      },
      "execution_count": 10,
      "outputs": [
        {
          "output_type": "stream",
          "name": "stdout",
          "text": [
            "<bound method Series.idxmax of Department\n",
            "Finance      72666.666667\n",
            "HR           61000.000000\n",
            "IT           54666.666667\n",
            "Marketing    69000.000000\n",
            "Name: Salary, dtype: float64> <bound method Series.max of Department\n",
            "Finance      72666.666667\n",
            "HR           61000.000000\n",
            "IT           54666.666667\n",
            "Marketing    69000.000000\n",
            "Name: Salary, dtype: float64>\n"
          ]
        }
      ]
    },
    {
      "cell_type": "code",
      "source": [
        "print(df[[\"Age\",\"Salary\"]].corr())"
      ],
      "metadata": {
        "colab": {
          "base_uri": "https://localhost:8080/"
        },
        "id": "ROaOryLkZdzS",
        "outputId": "e5cb090e-4dd7-4a6f-a1e4-cb152964f0c6"
      },
      "execution_count": 12,
      "outputs": [
        {
          "output_type": "stream",
          "name": "stdout",
          "text": [
            "             Age    Salary\n",
            "Age     1.000000  0.949344\n",
            "Salary  0.949344  1.000000\n"
          ]
        }
      ]
    }
  ]
}