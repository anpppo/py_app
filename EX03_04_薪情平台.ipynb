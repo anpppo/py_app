{
  "nbformat": 4,
  "nbformat_minor": 0,
  "metadata": {
    "colab": {
      "provenance": [],
      "authorship_tag": "ABX9TyPmoaqHD2F2m2Aqgg7h4LLq",
      "include_colab_link": true
    },
    "kernelspec": {
      "name": "python3",
      "display_name": "Python 3"
    },
    "language_info": {
      "name": "python"
    }
  },
  "cells": [
    {
      "cell_type": "markdown",
      "metadata": {
        "id": "view-in-github",
        "colab_type": "text"
      },
      "source": [
        "<a href=\"https://colab.research.google.com/github/anpppo/py_app/blob/main/EX03_04_%E8%96%AA%E6%83%85%E5%B9%B3%E5%8F%B0.ipynb\" target=\"_parent\"><img src=\"https://colab.research.google.com/assets/colab-badge.svg\" alt=\"Open In Colab\"/></a>"
      ]
    },
    {
      "cell_type": "code",
      "source": [
        "!wget -O earning.xlsx https://raw.githubusercontent.com/imchihchao/aop113b/main/materials/03-earnings.xlsx"
      ],
      "metadata": {
        "id": "OU9uumUSKws0"
      },
      "execution_count": null,
      "outputs": []
    },
    {
      "cell_type": "code",
      "execution_count": null,
      "metadata": {
        "id": "_950Beo7KXin"
      },
      "outputs": [],
      "source": [
        "import pandas as pd\n",
        "url = 'https://raw.githubusercontent.com/imchihchao/aop113b/main/materials/03-earnings.xlsx'\n",
        "df = pd.read_excel(url)\n",
        "df\n"
      ]
    },
    {
      "cell_type": "code",
      "source": [
        "df.drop(columns=['Unnamed: 0'], inplace=True)\n",
        "df.dropna(subset=['Unnamed: 1'], inplace=True)\n",
        "df.rename(columns={'Unnamed: 1': '年度'}, inplace=True)"
      ],
      "metadata": {
        "id": "wuub9PqjKehI"
      },
      "execution_count": 5,
      "outputs": []
    },
    {
      "cell_type": "code",
      "source": [
        "df.set_index('年度', inplace=True)\n",
        "df"
      ],
      "metadata": {
        "id": "lc_oeN_xLR7i"
      },
      "execution_count": null,
      "outputs": []
    },
    {
      "cell_type": "code",
      "source": [
        "for col in df.columns:\n",
        "    df[col] = pd.to_numeric(df[col], errors='coerce')\n",
        "df"
      ],
      "metadata": {
        "id": "56KJwUolLVRM"
      },
      "execution_count": null,
      "outputs": []
    },
    {
      "cell_type": "code",
      "source": [
        "df.info()"
      ],
      "metadata": {
        "id": "6WyKAcxLLa_T"
      },
      "execution_count": null,
      "outputs": []
    },
    {
      "cell_type": "code",
      "source": [
        "df.loc['81年'].idxmax(), df.loc['81年'].max"
      ],
      "metadata": {
        "id": "-QW19tb1Lid2"
      },
      "execution_count": null,
      "outputs": []
    },
    {
      "cell_type": "code",
      "source": [
        "df.loc['81年'].idxmin(), df.loc['81年'].min"
      ],
      "metadata": {
        "id": "_ZAw5250MNeX"
      },
      "execution_count": null,
      "outputs": []
    },
    {
      "cell_type": "code",
      "source": [
        "df.loc['81年'].mean()"
      ],
      "metadata": {
        "id": "VK-ZgNwfMYR0"
      },
      "execution_count": null,
      "outputs": []
    },
    {
      "cell_type": "code",
      "source": [
        "df['醫療保健及社會工作服務業'].idxmax(), df['醫療保健及社會工作服務業'].max()"
      ],
      "metadata": {
        "id": "rAKjxn6BNB4c"
      },
      "execution_count": null,
      "outputs": []
    },
    {
      "cell_type": "code",
      "source": [
        "df.loc['113年'].nlargest(3)"
      ],
      "metadata": {
        "id": "VhpB6FThNP37"
      },
      "execution_count": null,
      "outputs": []
    },
    {
      "cell_type": "code",
      "source": [
        "df.loc['113年'].nsmallest(3)"
      ],
      "metadata": {
        "id": "hOPtupqkNdMC"
      },
      "execution_count": null,
      "outputs": []
    },
    {
      "cell_type": "code",
      "source": [
        "for id in df.index:\n",
        "    print(id, df.loc[id].nlargest(3).index.to_list())"
      ],
      "metadata": {
        "id": "8BqdXlYENkVr"
      },
      "execution_count": null,
      "outputs": []
    },
    {
      "cell_type": "code",
      "source": [
        "for id in df.index:\n",
        "    print(id, df.loc[id].nsmallest(3).index.to_list())"
      ],
      "metadata": {
        "id": "sk0UMaPuNy5M"
      },
      "execution_count": null,
      "outputs": []
    }
  ]
}