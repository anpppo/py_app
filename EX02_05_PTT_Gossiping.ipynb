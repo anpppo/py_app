{
  "nbformat": 4,
  "nbformat_minor": 0,
  "metadata": {
    "colab": {
      "provenance": [],
      "authorship_tag": "ABX9TyNOLzmRmXDd7kSEhiL+CCwp",
      "include_colab_link": true
    },
    "kernelspec": {
      "name": "python3",
      "display_name": "Python 3"
    },
    "language_info": {
      "name": "python"
    }
  },
  "cells": [
    {
      "cell_type": "markdown",
      "metadata": {
        "id": "view-in-github",
        "colab_type": "text"
      },
      "source": [
        "<a href=\"https://colab.research.google.com/github/anpppo/py_app/blob/main/EX02_05_PTT_Gossiping.ipynb\" target=\"_parent\"><img src=\"https://colab.research.google.com/assets/colab-badge.svg\" alt=\"Open In Colab\"/></a>"
      ]
    },
    {
      "cell_type": "code",
      "execution_count": 3,
      "metadata": {
        "colab": {
          "base_uri": "https://localhost:8080/",
          "height": 437
        },
        "id": "fE-UxXrgH97P",
        "outputId": "1f0b64db-99fa-4e00-c3b5-6b6d748e61ee"
      },
      "outputs": [
        {
          "output_type": "stream",
          "name": "stdout",
          "text": [
            " 4/08 https://www.ptt.cc//bbs/Gossiping/M.1744096204.A.CC2.html [問卦] 西西里島發爐倒數中！現場直播！\n",
            " 4/08 https://www.ptt.cc//bbs/Gossiping/M.1744096269.A.F09.html [問卦] 海空軍在對峙，陸軍司令在管餐盤？\n",
            " 4/08 https://www.ptt.cc//bbs/Gossiping/M.1744096284.A.C83.html [問卦] 台灣加入反美陣營會比較好嗎？\n",
            " 4/08 https://www.ptt.cc//bbs/Gossiping/M.1744096292.A.295.html Re: [新聞] 綠癱瘓立院反批韓國瑜卡議事　青鳥助攻\n",
            " 4/08 https://www.ptt.cc//bbs/Gossiping/M.1744096296.A.5FB.html Re: [問卦] 立法院被鎖起來是什麼意思？\n",
            " 4/08 https://www.ptt.cc//bbs/Gossiping/M.1744096299.A.CFB.html [問卦] 第三次世界大戰甚麼時候開打\n",
            " 4/08 https://www.ptt.cc//bbs/Gossiping/M.1744096312.A.DA7.html [問卦] 台股跌深是上天送便宜禮物讓你撿便宜吧?  \n",
            " 4/08 https://www.ptt.cc//bbs/Gossiping/M.1744096330.A.E9D.html [問卦] 外匯存底又創次高了,為啥台幣還趴著\n",
            " 4/08 https://www.ptt.cc//bbs/Gossiping/M.1744096338.A.CF8.html [新聞] 快訊／謝宜容涉貪起訴！法院裁定「戴電子\n",
            " 4/08 https://www.ptt.cc//bbs/Gossiping/M.1744096406.A.8C8.html [新聞] 涉共諜案！民進黨火速開除黃取榮、邱世元\n",
            " 4/08 https://www.ptt.cc//bbs/Gossiping/M.1744096416.A.047.html [新聞] 「全島首座紅綠燈」8月啟用 小琉球人： \n",
            " 4/08 https://www.ptt.cc//bbs/Gossiping/M.1744096454.A.EF5.html Re: [新聞] 川普威脅加碼50%關稅！中國放話奉陪到底 \n",
            " 4/08 https://www.ptt.cc//bbs/Gossiping/M.1744096561.A.B83.html [問卦] 一個老人腦袋突然不清楚胡言亂語\n",
            " 4/08 https://www.ptt.cc//bbs/Gossiping/M.1744096602.A.681.html [問卦] 政治獻金說實話就是賄賂吧？\n",
            " 4/08 https://www.ptt.cc//bbs/Gossiping/M.1744096605.A.24D.html [新聞] 快新聞／藍白稱綠黨團癱瘓議事　沈伯洋\n",
            " 4/08 https://www.ptt.cc//bbs/Gossiping/M.1744096639.A.026.html [問卦] 上班都要看失智老人無理取鬧的人在想啥\n",
            " 4/08 https://www.ptt.cc//bbs/Gossiping/M.1744096733.A.CB4.html Re: [問卦] 台灣是台灣，中國人就該回中國\n",
            " 1/21 https://www.ptt.cc//bbs/Gossiping/M.1737398137.A.644.html [公告] 八卦板板規(2025.01.21)\n",
            " 3/12 https://www.ptt.cc//bbs/Gossiping/M.1741791500.A.EB6.html Fw: [公告] 請避免與登入1次之帳號進行交易 發錢\n",
            " 4/05 https://www.ptt.cc//bbs/Gossiping/M.1743833739.A.260.html [公告] 八卦板主投票請按V開始 &手機投票  \n",
            " 4/06 https://www.ptt.cc//bbs/Gossiping/M.1743920492.A.0DB.html [公告] 壹蘋未確實查證警告，禁發記者魏盈盈新聞\n",
            " 4/07 https://www.ptt.cc//bbs/Gossiping/M.1744027550.A.428.html [協尋] 78歲 失智阿嬤 竹東鎮市區(資訊更新)\n"
          ]
        },
        {
          "output_type": "execute_result",
          "data": {
            "text/plain": [
              "'https://www.ptt.cc/bbs/Gossiping/index.html'"
            ],
            "application/vnd.google.colaboratory.intrinsic+json": {
              "type": "string"
            }
          },
          "metadata": {},
          "execution_count": 3
        }
      ],
      "source": [
        "import requests\n",
        "from bs4 import BeautifulSoup\n",
        "def get_article_list(url):\n",
        "    response = requests.get(url, cookies = cookies)\n",
        "    soup = BeautifulSoup(response.text, 'lxml')\n",
        "    for arti in soup.find_all('div', class_='r-ent'):\n",
        "      if arti.find('div', class_='title').a :\n",
        "        articles = arti.find('div', class_='title').a.text\n",
        "        href = \"https://www.ptt.cc/\" + arti.find('div', class_='title').a.get('href')\n",
        "      else:\n",
        "        articles = arti.find('div', class_='title').text\n",
        "        href = \"\"\n",
        "      date =  arti.find('div', class_='date').text\n",
        "      print(date, href, articles)\n",
        "\n",
        "    return url\n",
        "\n",
        "\n",
        "url = \"https://www.ptt.cc/bbs/Gossiping/index.html\"\n",
        "cookies = {'over18': '1'}\n",
        "get_article_list(url)"
      ]
    }
  ]
}