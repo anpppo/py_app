{
  "nbformat": 4,
  "nbformat_minor": 0,
  "metadata": {
    "colab": {
      "provenance": [],
      "authorship_tag": "ABX9TyOywlVMOcBhtx1rKusuw6N6",
      "include_colab_link": true
    },
    "kernelspec": {
      "name": "python3",
      "display_name": "Python 3"
    },
    "language_info": {
      "name": "python"
    }
  },
  "cells": [
    {
      "cell_type": "markdown",
      "metadata": {
        "id": "view-in-github",
        "colab_type": "text"
      },
      "source": [
        "<a href=\"https://colab.research.google.com/github/anpppo/py_app/blob/main/EX01_07_%E7%BE%8E%E9%A3%9F%E8%B3%87%E8%A8%8A%E6%9F%A5%E8%A9%A2.ipynb\" target=\"_parent\"><img src=\"https://colab.research.google.com/assets/colab-badge.svg\" alt=\"Open In Colab\"/></a>"
      ]
    },
    {
      "cell_type": "code",
      "source": [
        "!pip install gradio"
      ],
      "metadata": {
        "id": "FbuD3Ms-JGJt"
      },
      "execution_count": null,
      "outputs": []
    },
    {
      "cell_type": "code",
      "execution_count": null,
      "metadata": {
        "id": "wK9Dcg49I3en"
      },
      "outputs": [],
      "source": [
        "import gradio as gr\n",
        "food_database = [\n",
        "    {\"name\": \"春蘭割包\", \"address\": \"800高雄市新興區復興一路5號\", \"phone\": \"+88672017806\"},\n",
        "    {\"name\": \"上海生煎湯包\", \"address\": \"807高雄市三民區熱河一街208號\", \"phone\": \"+88673220702\"},\n",
        "    {\"name\": \"岡山舊市羊肉\", \"address\": \"820高雄市岡山區河華路111號\", \"phone\": \"+88676258151\"},\n",
        "    {\"name\": \"黃家肉燥飯\", \"address\": \"825高雄市橋頭區橋南路106號\", \"phone\": \"+88676123253\"},\n",
        "    {\"name\": \"龍記餡餅\", \"address\": \"820高雄市岡山區溪東路2號\", \"phone\": \"\"}\n",
        "]\n",
        "\n",
        "menu = [ im[\"name\"] for im in food_database]\n",
        "\n",
        "def food_info(store_name):\n",
        "  for im in food_database:\n",
        "    if im[\"name\"] == store_name:\n",
        "      info = im[\"name\"] +\"\\n\"+ im[\"address\"] + \"\\n\" +im[\"phone\"]\n",
        "      return info\n",
        "  return 'Not found.'\n",
        "\n",
        "interface = gr.Interface(\n",
        "    fn = food_info,\n",
        "    inputs = gr.Dropdown(choices=menu, label = '請選擇一間餐廳'),\n",
        "    outputs = gr.Textbox(label = '餐廳資訊')\n",
        "\n",
        ")\n",
        "\n",
        "interface.launch()\n",
        "\n",
        "\n"
      ]
    }
  ]
}