{
  "nbformat": 4,
  "nbformat_minor": 0,
  "metadata": {
    "colab": {
      "provenance": [],
      "authorship_tag": "ABX9TyOam0NKE5sCrbz7Oymt20wV",
      "include_colab_link": true
    },
    "kernelspec": {
      "name": "python3",
      "display_name": "Python 3"
    },
    "language_info": {
      "name": "python"
    }
  },
  "cells": [
    {
      "cell_type": "markdown",
      "metadata": {
        "id": "view-in-github",
        "colab_type": "text"
      },
      "source": [
        "<a href=\"https://colab.research.google.com/github/anpppo/py_app/blob/main/EX02_04_Download_Pokemon_Images.ipynb\" target=\"_parent\"><img src=\"https://colab.research.google.com/assets/colab-badge.svg\" alt=\"Open In Colab\"/></a>"
      ]
    },
    {
      "cell_type": "code",
      "execution_count": null,
      "metadata": {
        "id": "10pkm0SPOAAp"
      },
      "outputs": [],
      "source": [
        "import requests\n",
        "\n",
        "url = 'https://tw.portal-pokemon.com/play/pokedex/0001'\n",
        "response = requests.get(url)\n",
        "response.text\n"
      ]
    },
    {
      "cell_type": "code",
      "source": [
        "from bs4 import BeautifulSoup\n",
        "soup = BeautifulSoup(response.text, 'html.parser')\n"
      ],
      "metadata": {
        "id": "CdjyXwaSPCuI"
      },
      "execution_count": 2,
      "outputs": []
    },
    {
      "cell_type": "code",
      "source": [
        "img_url = 'https://tw.portal-pokemon.com' + soup.find('img', class_= 'pokemon-img__front')['src']\n",
        "img = requests.get(img_url)\n",
        "with open('0001.png', 'wb') as f:\n",
        "    f.write(img.content)"
      ],
      "metadata": {
        "id": "cpR9PHbFP0jg"
      },
      "execution_count": 6,
      "outputs": []
    },
    {
      "cell_type": "code",
      "source": [
        "import requests\n",
        "from bs4 import BeautifulStoneSoup\n",
        "\n",
        "for i in range(1,11):\n",
        "  id = f'{i:04}'\n",
        "  url = f'https://tw.portal-pokemon.com/play/pokedex/{id}'\n",
        "  soup = BeautifulSoup(response.text, 'lxml')\n",
        "  img_url = 'https://tw.portal-pokemon.com' + soup.find('img', class_= 'pokemon-img__front')['src']\n",
        "  img = requests.get(img_url)\n",
        "  with open(f'/content/pokemon/{id}.png', 'wb') as f:\n",
        "      f.write(img.content)"
      ],
      "metadata": {
        "id": "hjS1mEN6QS3U"
      },
      "execution_count": 8,
      "outputs": []
    },
    {
      "cell_type": "code",
      "source": [],
      "metadata": {
        "id": "wAFfc3Q5SFj4"
      },
      "execution_count": null,
      "outputs": []
    }
  ]
}