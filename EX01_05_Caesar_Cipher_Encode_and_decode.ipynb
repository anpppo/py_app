{
  "cells": [
    {
      "cell_type": "markdown",
      "metadata": {
        "id": "view-in-github",
        "colab_type": "text"
      },
      "source": [
        "<a href=\"https://colab.research.google.com/github/anpppo/py_app/blob/main/EX01_05_Caesar_Cipher_Encode_and_decode.ipynb\" target=\"_parent\"><img src=\"https://colab.research.google.com/assets/colab-badge.svg\" alt=\"Open In Colab\"/></a>"
      ]
    },
    {
      "cell_type": "code",
      "execution_count": null,
      "metadata": {
        "id": "Toqn2Lgzhv1S"
      },
      "outputs": [],
      "source": [
        "act = input()\n",
        "text = input()\n",
        "act_type = act[0]\n",
        "act_key = int(act[1:])\n",
        "\n",
        "\n",
        "if act_type == 'd':\n",
        "  processed_text = ''\n",
        "  for i in text:\n",
        "    ni = ord(i) + act_key\n",
        "    processed_text += chr(ni)\n",
        "\n",
        "if act_type == 'e':\n",
        "  processed_text = ''\n",
        "  for i in text:\n",
        "    ni = ord(i) + act_key\n",
        "    processed_text += chr(ni)\n",
        "print(processed_text)"
      ]
    }
  ],
  "metadata": {
    "colab": {
      "provenance": [],
      "authorship_tag": "ABX9TyNyqKy8R5kRNkLwl/mSlSJW",
      "include_colab_link": true
    },
    "kernelspec": {
      "display_name": "Python 3",
      "name": "python3"
    },
    "language_info": {
      "name": "python"
    }
  },
  "nbformat": 4,
  "nbformat_minor": 0
}