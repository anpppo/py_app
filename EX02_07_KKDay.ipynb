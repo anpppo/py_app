{
  "nbformat": 4,
  "nbformat_minor": 0,
  "metadata": {
    "colab": {
      "provenance": [],
      "authorship_tag": "ABX9TyNYDYbaPnArdEGd9nhvzZb8",
      "include_colab_link": true
    },
    "kernelspec": {
      "name": "python3",
      "display_name": "Python 3"
    },
    "language_info": {
      "name": "python"
    }
  },
  "cells": [
    {
      "cell_type": "markdown",
      "metadata": {
        "id": "view-in-github",
        "colab_type": "text"
      },
      "source": [
        "<a href=\"https://colab.research.google.com/github/anpppo/py_app/blob/main/EX02_07_KKDay.ipynb\" target=\"_parent\"><img src=\"https://colab.research.google.com/assets/colab-badge.svg\" alt=\"Open In Colab\"/></a>"
      ]
    },
    {
      "cell_type": "code",
      "execution_count": null,
      "metadata": {
        "id": "_UjS45vtdh2q"
      },
      "outputs": [],
      "source": [
        "import requests\n",
        "from bs4 import BeautifulSoup\n",
        "from IPython.display import display,Image\n",
        "url = 'https://www.kkday.com/zh-tw/category/ajax_get_top_products?productCategory=CATEGORY_078&destination=D-JP-3261'\n",
        "headers = {'User-Agent': 'Mozilla/5.0 (Windows NT 10.0; Win64; x64) AppleWebKit/537.36 (KHTML, like Gecko) Chrome/102.0.0.0 Safari/537.36'}\n",
        "response = requests.get(url, headers=headers)\n",
        "hotels = response.json()\n",
        "for hotel in hotels['data']:\n",
        "    print(hotel['name'],hotel['rating_star'],hotel['sale_price'])\n",
        "    print(hotel['introduction'])\n",
        "    display(Image(url=hotel['img_url'],width=300))\n",
        "    print('-'*3)\n",
        "    print()\n",
        "\n"
      ]
    }
  ]
}