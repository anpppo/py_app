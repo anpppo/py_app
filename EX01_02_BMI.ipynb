{
  "nbformat": 4,
  "nbformat_minor": 0,
  "metadata": {
    "colab": {
      "provenance": [],
      "authorship_tag": "ABX9TyOSFlquTAzvzNK/CQJvEeGw",
      "include_colab_link": true
    },
    "kernelspec": {
      "name": "python3",
      "display_name": "Python 3"
    },
    "language_info": {
      "name": "python"
    }
  },
  "cells": [
    {
      "cell_type": "markdown",
      "metadata": {
        "id": "view-in-github",
        "colab_type": "text"
      },
      "source": [
        "<a href=\"https://colab.research.google.com/github/anpppo/py_app/blob/main/EX01_02_BMI.ipynb\" target=\"_parent\"><img src=\"https://colab.research.google.com/assets/colab-badge.svg\" alt=\"Open In Colab\"/></a>"
      ]
    },
    {
      "cell_type": "code",
      "execution_count": null,
      "metadata": {
        "id": "lkch2bgWyV10"
      },
      "outputs": [],
      "source": [
        "weight = float(input(\"體重(kg)\"))\n",
        "height = float(input(\"身高(m)\"))\n",
        "\n",
        "print( \"BMI:%.2f\" %(weight/(height*height)))"
      ]
    }
  ]
}