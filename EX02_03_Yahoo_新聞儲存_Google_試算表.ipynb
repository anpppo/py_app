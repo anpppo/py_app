{
  "nbformat": 4,
  "nbformat_minor": 0,
  "metadata": {
    "colab": {
      "provenance": [],
      "mount_file_id": "1vmX4kqGVbxfqHAWKS3Gdfmhk_IIgykDF",
      "authorship_tag": "ABX9TyMqQZ1s4YYNgpPXdeyCQz2n",
      "include_colab_link": true
    },
    "kernelspec": {
      "name": "python3",
      "display_name": "Python 3"
    },
    "language_info": {
      "name": "python"
    }
  },
  "cells": [
    {
      "cell_type": "markdown",
      "metadata": {
        "id": "view-in-github",
        "colab_type": "text"
      },
      "source": [
        "<a href=\"https://colab.research.google.com/github/anpppo/py_app/blob/main/EX02_03_Yahoo_%E6%96%B0%E8%81%9E%E5%84%B2%E5%AD%98_Google_%E8%A9%A6%E7%AE%97%E8%A1%A8.ipynb\" target=\"_parent\"><img src=\"https://colab.research.google.com/assets/colab-badge.svg\" alt=\"Open In Colab\"/></a>"
      ]
    },
    {
      "cell_type": "code",
      "execution_count": 11,
      "metadata": {
        "id": "5l_12i3V_Bui"
      },
      "outputs": [],
      "source": [
        "!pip install feedparser -q"
      ]
    },
    {
      "cell_type": "code",
      "source": [
        "import feedparser\n",
        "feed_url = \"https://tw.news.yahoo.com/rss\"\n",
        "feed_data = feedparser.parse(feed_url)"
      ],
      "metadata": {
        "id": "nfuWqHhBDAIz"
      },
      "execution_count": 23,
      "outputs": []
    },
    {
      "cell_type": "code",
      "source": [
        "from google.colab import auth\n",
        "from google.auth import default\n",
        "import gspread\n",
        "\n",
        "auth.authenticate_user()\n",
        "creds, _ = default()\n",
        "gc = gspread.authorize (creds)"
      ],
      "metadata": {
        "id": "rY_UiORdJdrG"
      },
      "execution_count": 20,
      "outputs": []
    },
    {
      "cell_type": "code",
      "source": [
        "url = 'https://docs.google.com/spreadsheets/d/1bdeIxWe3GTZ8rm7pyrOu2WCLLmHh2owMX0lkKxg2GjU/edit?gid=0#gid=0'\n",
        "workbook = gc.open_by_url(url)\n",
        "\n",
        "sheet = workbook.get_worksheet(0)\n",
        "\n",
        "sheet.clear()\n",
        "sheet.append_row([ 'title' , 'summary' , 'link' ])\n",
        "\n",
        "for entry in feed_data.entries:\n",
        "    sheet.append_row([ entry.title , entry.summary , entry.link ])\n",
        "\n"
      ],
      "metadata": {
        "id": "_zDO84kPD5TT"
      },
      "execution_count": 25,
      "outputs": []
    }
  ]
}