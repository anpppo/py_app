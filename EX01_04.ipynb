{
  "nbformat": 4,
  "nbformat_minor": 0,
  "metadata": {
    "colab": {
      "provenance": [],
      "authorship_tag": "ABX9TyNIYgvT+fGBkf+CJYxtMKB6",
      "include_colab_link": true
    },
    "kernelspec": {
      "name": "python3",
      "display_name": "Python 3"
    },
    "language_info": {
      "name": "python"
    }
  },
  "cells": [
    {
      "cell_type": "markdown",
      "metadata": {
        "id": "view-in-github",
        "colab_type": "text"
      },
      "source": [
        "<a href=\"https://colab.research.google.com/github/anpppo/py_app/blob/main/EX01_04.ipynb\" target=\"_parent\"><img src=\"https://colab.research.google.com/assets/colab-badge.svg\" alt=\"Open In Colab\"/></a>"
      ]
    },
    {
      "cell_type": "code",
      "execution_count": 3,
      "metadata": {
        "colab": {
          "base_uri": "https://localhost:8080/"
        },
        "id": "f6Ivj-RQQnSY",
        "outputId": "3ee11348-779d-4b77-cbb7-e8971ecf6e4c"
      },
      "outputs": [
        {
          "output_type": "stream",
          "name": "stdout",
          "text": [
            "0 ~ 100\n",
            "Guess:55\n",
            "55 ~ 100\n",
            "Guess:75\n",
            "猜中\n"
          ]
        }
      ],
      "source": [
        "import random\n",
        "bomb = random.randint(1,99)\n",
        "\n",
        "lf = 0\n",
        "rt = 100\n",
        "\n",
        "qu = -1\n",
        "\n",
        "while qu != bomb:\n",
        "  print(lf,'~',rt)\n",
        "  gu = int(input('Guess:'))\n",
        "  if gu <= lf or gu >= rt:\n",
        "    print('超出範圍')\n",
        "  elif gu < bomb:\n",
        "    lf = gu\n",
        "  elif gu > bomb:\n",
        "    rt = gu\n",
        "  else:\n",
        "    print('猜中')\n",
        "    break\n"
      ]
    }
  ]
}