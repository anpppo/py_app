{
  "nbformat": 4,
  "nbformat_minor": 0,
  "metadata": {
    "colab": {
      "provenance": [],
      "authorship_tag": "ABX9TyM/WQ+MgzTMu7yu12rOqBrf",
      "include_colab_link": true
    },
    "kernelspec": {
      "name": "python3",
      "display_name": "Python 3"
    },
    "language_info": {
      "name": "python"
    }
  },
  "cells": [
    {
      "cell_type": "markdown",
      "metadata": {
        "id": "view-in-github",
        "colab_type": "text"
      },
      "source": [
        "<a href=\"https://colab.research.google.com/github/anpppo/py_app/blob/main/EX02_02_%E9%AB%98%E9%9B%84%E7%B4%85%E6%A9%98%E7%B7%9A%E6%8D%B7%E9%81%8B%E8%BB%8A%E7%AB%99%E4%BD%8D%E7%BD%AE%E6%9F%A5%E8%A9%A2.ipynb\" target=\"_parent\"><img src=\"https://colab.research.google.com/assets/colab-badge.svg\" alt=\"Open In Colab\"/></a>"
      ]
    },
    {
      "cell_type": "code",
      "execution_count": null,
      "metadata": {
        "id": "g_SzJajG_Fyt"
      },
      "outputs": [],
      "source": [
        "import requests\n",
        "\n",
        "url = 'https://data.kcg.gov.tw/dataset/2629db6d-98ec-4b24-8ab1-5dc34d998460/resource/662f822c-632b-4cb3-80f6-b5ac053d210b/download/11311.json'\n",
        "response = requests.get(url)\n",
        "stats = response.json()\n",
        "stats[0]"
      ]
    },
    {
      "cell_type": "code",
      "source": [
        "import csv\n",
        "wtr = []\n",
        "wtr.append(list(stats[0].keys()))\n",
        "for stat in stats:\n",
        "    wtr.append(list(stat.values()))\n",
        "with open('kcg_bike_stats.csv', 'w', newline='', encoding='utf-8') as csvfile:\n",
        "    writer = csv.writer(csvfile)\n",
        "    writer.writerows(wtr)"
      ],
      "metadata": {
        "id": "CNCiCjwTAPLg"
      },
      "execution_count": 2,
      "outputs": []
    },
    {
      "cell_type": "code",
      "source": [
        "import csv\n",
        "\n",
        "with open('kcg_bike_stats.csv', 'r') as csvfile:\n",
        "    reader = csv.reader(csvfile)\n",
        "    stats = list(reader)\n",
        "stats[0]"
      ],
      "metadata": {
        "id": "-3iSMCEeAoKD"
      },
      "execution_count": null,
      "outputs": []
    },
    {
      "cell_type": "code",
      "source": [
        "!pip install gradio -q"
      ],
      "metadata": {
        "colab": {
          "base_uri": "https://localhost:8080/"
        },
        "id": "rrW16a4lA1Zf",
        "outputId": "8202d0ca-cbc7-452a-fa46-b2dacf04e24c"
      },
      "execution_count": 6,
      "outputs": [
        {
          "output_type": "stream",
          "name": "stdout",
          "text": [
            "\u001b[2K   \u001b[90m━━━━━━━━━━━━━━━━━━━━━━━━━━━━━━━━━━━━━━━━\u001b[0m \u001b[32m46.2/46.2 MB\u001b[0m \u001b[31m17.1 MB/s\u001b[0m eta \u001b[36m0:00:00\u001b[0m\n",
            "\u001b[?25h"
          ]
        }
      ]
    },
    {
      "cell_type": "code",
      "source": [
        "import gradio as gr\n",
        "\n",
        "def stat_info(id):\n",
        "  info = ''\n",
        "  for it in stats[1:]:\n",
        "    if it[1] == id:\n",
        "      info = f'車站編號:{it[1]}\\n中文名稱: {it[2]}\\n英文名稱: {it[3]}'\n",
        "      html = get_html(it[4],it[5])\n",
        "  return info, html\n",
        "\n",
        "def get_html(lat, lon):\n",
        "  lat = float(lat)\n",
        "  lon = float(lon)\n",
        "  html = f'''\n",
        "  <div style = style width=\"100%\" height=\"400px\">\n",
        "    <iframe\n",
        "      width =\"100%\"\n",
        "      height = \"100%\"\n",
        "      frameborder = \"0\"\n",
        "      scrolling = \"no\"\n",
        "      marginheight = \"0\"\n",
        "      marginwidth = \"0\"\n",
        "      src=\"https://www.openstreetmap.org/export/embed.html?bbox={lon-0.01},{lat-0.01},{lon+0.01},{lat+0.01}&layer=mapnik&marker={lat}%2C{lon}\"\n",
        "  </iframe>\n",
        "  </div>\n",
        "  '''\n",
        "  return html\n",
        "menu = []\n",
        "for it in stats[1:]:\n",
        "  menu.append(it[1])\n",
        "\n",
        "gr.Interface(\n",
        "    fn=stat_info,\n",
        "    inputs=[gr.Dropdown(choices= menu, label='車站編號')],\n",
        "    outputs=[gr.Textbox(label='車站資訊'), gr.HTML(label='地圖')]\n",
        ").launch()\n",
        "\n"
      ],
      "metadata": {
        "colab": {
          "base_uri": "https://localhost:8080/",
          "height": 650
        },
        "id": "m2bL1HpPBIgG",
        "outputId": "4449c426-9a67-4135-c3b4-124877277c10"
      },
      "execution_count": 8,
      "outputs": [
        {
          "output_type": "stream",
          "name": "stdout",
          "text": [
            "Running Gradio in a Colab notebook requires sharing enabled. Automatically setting `share=True` (you can turn this off by setting `share=False` in `launch()` explicitly).\n",
            "\n",
            "Colab notebook detected. To show errors in colab notebook, set debug=True in launch()\n",
            "* Running on public URL: https://c1645f089fdbb687af.gradio.live\n",
            "\n",
            "This share link expires in 72 hours. For free permanent hosting and GPU upgrades, run `gradio deploy` from the terminal in the working directory to deploy to Hugging Face Spaces (https://huggingface.co/spaces)\n"
          ]
        },
        {
          "output_type": "display_data",
          "data": {
            "text/plain": [
              "<IPython.core.display.HTML object>"
            ],
            "text/html": [
              "<div><iframe src=\"https://c1645f089fdbb687af.gradio.live\" width=\"100%\" height=\"500\" allow=\"autoplay; camera; microphone; clipboard-read; clipboard-write;\" frameborder=\"0\" allowfullscreen></iframe></div>"
            ]
          },
          "metadata": {}
        },
        {
          "output_type": "execute_result",
          "data": {
            "text/plain": []
          },
          "metadata": {},
          "execution_count": 8
        }
      ]
    }
  ]
}